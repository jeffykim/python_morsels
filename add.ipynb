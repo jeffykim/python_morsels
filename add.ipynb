{
 "cells": [
  {
   "cell_type": "markdown",
   "metadata": {},
   "source": [
    "Hey! ✨\n",
    "\n",
    "I'd like you to write a function that accepts two lists-of-lists of numbers and returns one list-of-lists with each of the corresponding numbers in the two given lists-of-lists added together.\n",
    "\n",
    "It should work something like this:\n",
    "\n",
    ">>> matrix1 = [[1, -2], [-3, 4]]\n",
    ">>> matrix2 = [[2, -1], [0, -1]]\n",
    ">>> add(matrix1, matrix2)\n",
    "[[3, -3], [-3, 3]]\n",
    ">>> matrix1 = [[1, -2, 3], [-4, 5, -6], [7, -8, 9]]\n",
    ">>> matrix2 = [[1, 1, 0], [1, -2, 3], [-2, 2, -2]]\n",
    ">>> add(matrix1, matrix2)\n",
    "[[2, -1, 3], [-3, 3, -3], [5, -6, 7]]\n",
    "Try to solve this exercise without using any third-party libraries (without using pandas for example).\n",
    "\n",
    "Before attempting any bonuses, I'd like you to put some effort into figuring out the clearest and most idiomatic way to solve this problem.\n",
    "\n",
    "There are two bonuses this week.\n",
    "\n",
    "Bonus 1\n",
    "\n",
    "For the first bonus, modify your add function to accept and \"add\" any number of lists-of-lists. ✔️\n",
    "\n",
    ">>> add([[1, 9], [7, 3]], [[5, -4], [3, 3]], [[2, 3], [-3, 1]])\n",
    "[[8, 8], [7, 7]]\n",
    "Bonus 2\n",
    "\n",
    "For the second bonus, make sure your add function raises a ValueError if the given lists-of-lists aren't all the same shape. ✔️\n",
    "\n",
    ">>> add([[1, 9], [7, 3]], [[1, 2], [3]])\n",
    "Traceback (most recent call last):\n",
    "  File \"<stdin>\", line 1, in <module>\n",
    "  File \"add.py\", line 10, in add\n",
    "    raise ValueError(\"Given matrices are not the same size.\")\n",
    "ValueError: Given matrices are not the same size."
   ]
  },
  {
   "cell_type": "code",
   "execution_count": 31,
   "metadata": {
    "collapsed": true
   },
   "outputs": [],
   "source": [
    "#this is just the first part\n",
    "def add(matrix1,matrix2):\n",
    "    added_matrix=[]\n",
    "    for matrix1_row, matrix2_row in zip(matrix1, matrix2):\n",
    "        row = []\n",
    "        for item_matrix1, item_matrix2 in zip(matrix1_row, matrix2_row):\n",
    "            row.append(item_matrix1+item_matrix2)\n",
    "            print(row)\n",
    "        added_matrix.append(row)\n",
    "    print(added_matrix)\n",
    "    return added_matrix\n",
    "    "
   ]
  },
  {
   "cell_type": "code",
   "execution_count": 54,
   "metadata": {
    "collapsed": true
   },
   "outputs": [],
   "source": [
    "#this is the bonus part\n",
    "def add(*args):\n",
    "    added_matrix =[]\n",
    "    for matrixrows in zip(*args):\n",
    "        row = []\n",
    "        for items in zip(*matrixrows):\n",
    "            added_item=0\n",
    "            for item in items:\n",
    "                added_item +=item\n",
    "            row.append(added_item)\n",
    "        added_matrix.append(row)\n",
    "    return added_matrix"
   ]
  },
  {
   "cell_type": "code",
   "execution_count": 56,
   "metadata": {},
   "outputs": [
    {
     "name": "stderr",
     "output_type": "stream",
     "text": [
      "test_any_number_of_matrixes (__main__.AddTests) ... ok\n",
      "test_different_matrix_size (__main__.AddTests) ... expected failure\n",
      "test_input_unchanged (__main__.AddTests) ... ok\n",
      "test_single_items (__main__.AddTests) ... ok\n",
      "test_two_by_three_matrixes (__main__.AddTests) ... ok\n",
      "test_two_by_two_matrixes (__main__.AddTests) ... ok\n",
      "\n",
      "----------------------------------------------------------------------\n",
      "Ran 6 tests in 0.013s\n",
      "\n",
      "OK (expected failures=1)\n"
     ]
    }
   ],
   "source": [
    "from copy import deepcopy\n",
    "import unittest\n",
    "\n",
    "\n",
    "\n",
    "class AddTests(unittest.TestCase):\n",
    "\n",
    "    \"\"\"Tests for add.\"\"\"\n",
    "\n",
    "    def test_single_items(self):\n",
    "        self.assertEqual(add([[5]], [[-2]]), [[3]])\n",
    "\n",
    "    def test_two_by_two_matrixes(self):\n",
    "        m1 = [[6, 6], [3, 1]]\n",
    "        m2 = [[1, 2], [3, 4]]\n",
    "        m3 = [[7, 8], [6, 5]]\n",
    "        self.assertEqual(add(m1, m2), m3)\n",
    "\n",
    "    def test_two_by_three_matrixes(self):\n",
    "        m1 = [[1, 2, 3], [4, 5, 6]]\n",
    "        m2 = [[-1, -2, -3], [-4, -5, -6]]\n",
    "        m3 = [[0, 0, 0], [0, 0, 0]]\n",
    "        self.assertEqual(add(m1, m2), m3)\n",
    "\n",
    "    def test_input_unchanged(self):\n",
    "        m1 = [[6, 6], [3, 1]]\n",
    "        m2 = [[1, 2], [3, 4]]\n",
    "        m1_original = deepcopy(m1)\n",
    "        m2_original = deepcopy(m2)\n",
    "        add(m1, m2)\n",
    "        self.assertEqual(m1, m1_original)\n",
    "        self.assertEqual(m2, m2_original)\n",
    "\n",
    "    # To test the Bonus part of this exercise, comment out the following line\n",
    "    #@unittest.expectedFailure\n",
    "    def test_any_number_of_matrixes(self):\n",
    "        m1 = [[6, 6], [3, 1]]\n",
    "        m2 = [[1, 2], [3, 4]]\n",
    "        m3 = [[2, 1], [3, 4]]\n",
    "        m4 = [[9, 9], [9, 9]]\n",
    "        m5 = [[31, 32], [27, 24]]\n",
    "        self.assertEqual(add(m1, m2, m3), m4)\n",
    "        self.assertEqual(add(m2, m3, m1, m1, m2, m4, m1), m5)\n",
    "\n",
    "    # To test the Bonus part of this exercise, comment out the following line\n",
    "    @unittest.expectedFailure\n",
    "    def test_different_matrix_size(self):\n",
    "        m1 = [[6, 6], [3, 1]]\n",
    "        m2 = [[1, 2], [3, 4], [5, 6]]\n",
    "        m3 = [[6, 6], [3, 1, 2]]\n",
    "        with self.assertRaises(ValueError):\n",
    "            add(m1, m2)\n",
    "        with self.assertRaises(ValueError):\n",
    "            add(m1, m3)\n",
    "        with self.assertRaises(ValueError):\n",
    "            add(m1, m1, m1, m3, m1, m1)\n",
    "        with self.assertRaises(ValueError):\n",
    "            add(m1, m1, m1, m2, m1, m1)\n",
    "\n",
    "\n",
    "if __name__ == \"__main__\":\n",
    "    unittest.main(argv=['first-arg-is-ignored'], exit=False,verbosity=2)"
   ]
  },
  {
   "cell_type": "markdown",
   "metadata": {
    "collapsed": true
   },
   "source": [
    "Hints for when you get stuck (hover over links to see what they're about):\n",
    "\n",
    "Iterating lists with indexes (and without)\n",
    "http://treyhunner.com/2016/04/how-to-loop-with-indexes-in-python/\n",
    "Multiple assignment might come in handy\n",
    "https://treyhunner.com/2018/03/tuple-unpacking-improves-python-code-readability/\n",
    "A special syntax for creating new lists from old lists\n",
    "https://treyhunner.com/2015/12/python-list-comprehensions-now-in-color/\n",
    "Accepting any number of arguments to a function\n",
    "https://treyhunner.com/2018/10/asterisks-in-python-what-they-are-and-how-to-use-them/#Asterisks_for_packing_arguments_given_to_function\n",
    "More discussion on accepting any number of arguments\n",
    "https://stackoverflow.com/questions/36901/what-does-double-star-asterisk-and-star-asterisk-do-for-parameters/36908#36908\n",
    "Raising an exception in Python\n",
    "https://stackoverflow.com/questions/2052390/manually-raising-throwing-an-exception-in-python"
   ]
  },
  {
   "cell_type": "code",
   "execution_count": null,
   "metadata": {
    "collapsed": true
   },
   "outputs": [],
   "source": []
  }
 ],
 "metadata": {
  "kernelspec": {
   "display_name": "Python 3",
   "language": "python",
   "name": "python3"
  },
  "language_info": {
   "codemirror_mode": {
    "name": "ipython",
    "version": 3
   },
   "file_extension": ".py",
   "mimetype": "text/x-python",
   "name": "python",
   "nbconvert_exporter": "python",
   "pygments_lexer": "ipython3",
   "version": "3.6.3"
  }
 },
 "nbformat": 4,
 "nbformat_minor": 2
}
